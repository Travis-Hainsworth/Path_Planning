{
 "cells": [
  {
   "cell_type": "code",
   "execution_count": null,
   "metadata": {},
   "outputs": [],
   "source": [
    "# Intro to Worlds\n",
    "#\n",
    "# This will give you an idea of how the worlds and nodes work, it\n",
    "# will help with the future assignments.\n",
    "#\n",
    "# The idea of making a game with the walls comes from nas-programmer\n",
    "# https://github.com/nas-programmer\n",
    "#\n",
    "# Author:\n",
    "#   Travis Hainsworth\n",
    "#   CSCI 3022 - Introduction to Robotics\n",
    "#   CU Boulder\n",
    "#   Fall 2024\n",
    "\n",
    "# Import the necessary libraries\n",
    "from world_maps import *\n",
    "from helper_functions.screen_helper_functions import *\n",
    "from helper_functions.world_class_definition import *"
   ]
  },
  {
   "cell_type": "code",
   "execution_count": null,
   "metadata": {},
   "outputs": [],
   "source": [
    "# The worlds are defined in the \"world_maps.py\" file located in\n",
    "# this directory. These maps define the size of the world, and they\n",
    "# define where the obstacles are.\n",
    "world, screen = small_map_2()\n",
    "\n",
    "# Note that there are two outputs: \"screen\" and \"world\".\n",
    "# Screen is the less important of the two, it holds the PyGame information.\n",
    "# It should have automatically popped up at this point, if you don't\n",
    "# see it, it is likely hiding behind other windows. Minimize everything.\n",
    "\n",
    "# The heart of the path planning is done with \"world\".\n",
    "# World contains a lot of helpful information:\n",
    "\n",
    "# Our coordinate frame is (row, column)\n",
    "print(f\"All coordinates are represented by (row, column)\\n\")\n",
    "\n",
    "# Here is the location of the start\n",
    "print(f\"We start at: {world.start}, it is mapped to (row, column)\\n\")\n",
    "\n",
    "# Here is the location of the goal:\n",
    "print(f\"The goal is located at: {world.goal}, it is mapped to (row, column)\")"
   ]
  },
  {
   "cell_type": "code",
   "execution_count": null,
   "metadata": {},
   "outputs": [],
   "source": [
    "# We can access any node using world.grid[row][column]\n",
    "#\n",
    "# This will be very helpful!!\n",
    "print(world.grid[0][0])"
   ]
  },
  {
   "cell_type": "code",
   "execution_count": null,
   "metadata": {},
   "outputs": [],
   "source": [
    "# Notice that the output above is just a object.\n",
    "#\n",
    "# It has a lot of useful information though\n",
    "start_node = world.grid[0][0]\n",
    "\n",
    "distance_from_start = start_node.true_cost\n",
    "\n",
    "print(\"Hopefully the cost to get to the start node from the start node is zero:\")\n",
    "print(f\"Starting Node cost: {distance_from_start}\")"
   ]
  },
  {
   "cell_type": "code",
   "execution_count": null,
   "metadata": {},
   "outputs": [],
   "source": [
    "# What is the cost of the node directly to the right of the start node?\n",
    "\n",
    "#### ---- YOU CODE NOW ---- ####\n",
    "right_node = \n",
    "\n",
    "distance_from_start = \n",
    "\n",
    "print(f\"It costs {distance_from_start} to get to the start\")"
   ]
  },
  {
   "cell_type": "code",
   "execution_count": null,
   "metadata": {},
   "outputs": [],
   "source": [
    "# Notice that it has already been initialized for you\n",
    "#\n",
    "# You can directly update the cost though:\n",
    "right_node.true_cost = 1\n",
    "\n",
    "print(f\"Now it costs {right_node.true_cost} to get to the start\")"
   ]
  },
  {
   "cell_type": "code",
   "execution_count": null,
   "metadata": {},
   "outputs": [],
   "source": [
    "# Check to see if it updated in world.grid\n",
    "\n",
    "\n",
    "#### ---- YOU CODE NOW ---- ####\n",
    "distance_from_start = world.grid # FILL IN THE REST OF THIS LINE\n",
    "\n",
    "print(f\"It costs {distance_from_start} to get to the start\")"
   ]
  },
  {
   "cell_type": "code",
   "execution_count": null,
   "metadata": {},
   "outputs": [],
   "source": [
    "# That is convenient!!\n",
    "\n",
    "# Go to \"node_class_definition.py\" and see what other helpful information\n",
    "# has been initialized for you\n",
    "\n",
    "# Print out three helpful things from the node below the start_nod:\n",
    "down_node = world.grid[1][0]\n",
    "\n",
    "\n",
    "#### ---- YOU CODE NOW ---- ####\n",
    "print()\n",
    "\n",
    "print()\n",
    "\n",
    "print()"
   ]
  },
  {
   "cell_type": "code",
   "execution_count": null,
   "metadata": {},
   "outputs": [],
   "source": [
    "# THIS IS IMPORTANT!!\n",
    "#\n",
    "# node.previous should be a node NOT a (row, column)\n",
    "right_node.previous = start_node\n",
    "\n",
    "print(f\"We came from {right_node.previous} to get to the node right of the start\")\n",
    "print(\"\\nHowever, that isn't very useful...\")"
   ]
  },
  {
   "cell_type": "code",
   "execution_count": null,
   "metadata": {},
   "outputs": [],
   "source": [
    "print(f\"The previous node's position is {right_node.previous.position}\")\n",
    "print(\"\\nThat was more useful! And I didn't even have to make a variable for it\")"
   ]
  },
  {
   "cell_type": "code",
   "execution_count": 21,
   "metadata": {},
   "outputs": [],
   "source": [
    "# make a trail that goes from the top right corner of the map all the way to the start:\n",
    "world.grid[0][19].previous = world.grid[0][18]\n",
    "world.grid[0][18].previous = world.grid[0][17]\n",
    "world.grid[0][17].previous = world.grid[0][16]\n",
    "\n",
    "\n",
    "#### ---- YOU CODE NOW ---- ####\n",
    "# keep going...\n",
    "# You might want to use some kind of loop"
   ]
  },
  {
   "cell_type": "code",
   "execution_count": null,
   "metadata": {},
   "outputs": [],
   "source": [
    "# Let's check your work\n",
    "\n",
    "for i in range(19,-1,-1):\n",
    "    print(f\"We got to node {0, i} from {world.grid[0][i].previous.position}\")\n",
    "    \n",
    "print(\"\\nDoes it match your expectation?\")"
   ]
  },
  {
   "cell_type": "code",
   "execution_count": null,
   "metadata": {},
   "outputs": [],
   "source": [
    "# Another useful feature that a node contains is its neighbors:\n",
    "list_o_neighbors = right_node.neighbors\n",
    "\n",
    "print(f\"Here are my neighbors: {list_o_neighbors}\")\n",
    "\n",
    "print(\"That is useful info! But the actual print statement is very useful...\")"
   ]
  },
  {
   "cell_type": "code",
   "execution_count": null,
   "metadata": {},
   "outputs": [],
   "source": [
    "print(\"Here are the positions of the neighbors:\")\n",
    "\n",
    "for i in list_o_neighbors:\n",
    "    print(i.position)\n",
    "\n",
    "print(\"\\nNotice this for loop's syntax! \\nWe didn't loop from 0 to 3, instead we directly looped through the list.\")"
   ]
  },
  {
   "cell_type": "code",
   "execution_count": null,
   "metadata": {},
   "outputs": [],
   "source": [
    "# Let's see about walls\n",
    "goal_position = world.goal\n",
    "goal_node = world.grid[goal_position[0]][goal_position[1]]\n",
    "is_goal_a_wall = goal_node.wall\n",
    "\n",
    "print(f\"Is the goal node a wall?\\n   {is_goal_a_wall}\\n\")"
   ]
  },
  {
   "cell_type": "code",
   "execution_count": null,
   "metadata": {},
   "outputs": [],
   "source": [
    "# Rewrite the above cell, but only using a single variable:\n",
    "\n",
    "# I'm going to delete the variable you can NOT use\n",
    "if 'goal_position' in vars() or 'goal_node' in vars() or 'is_goal_wall' in vars():\n",
    "    del goal_position, goal_node\n",
    "is_goal_wall = None\n",
    "\n",
    "\n",
    "#### ---- YOU CODE NOW ---- ####\n",
    "is_goal_a_wall = \n",
    "\n",
    "print(f\"Is the goal node a wall?\\n   {is_goal_a_wall}\\n\")"
   ]
  }
 ],
 "metadata": {
  "kernelspec": {
   "display_name": "base",
   "language": "python",
   "name": "python3"
  },
  "language_info": {
   "codemirror_mode": {
    "name": "ipython",
    "version": 3
   },
   "file_extension": ".py",
   "mimetype": "text/x-python",
   "name": "python",
   "nbconvert_exporter": "python",
   "pygments_lexer": "ipython3",
   "version": "3.12.5"
  }
 },
 "nbformat": 4,
 "nbformat_minor": 2
}
